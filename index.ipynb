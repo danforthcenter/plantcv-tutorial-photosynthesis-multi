{
 "cells": [
  {
   "cell_type": "markdown",
   "metadata": {},
   "source": [
    "# Photosynthesis, multi-leaf tutorial\n",
    "\n",
    "This tutorial is for analyzing photosynthetic efficiency for multiple leaves."
   ]
  },
  {
   "cell_type": "markdown",
   "metadata": {
    "id": "604065b5"
   },
   "source": [
    "# Section 1: Importing Image and Libraries"
   ]
  },
  {
   "cell_type": "code",
   "execution_count": null,
   "metadata": {
    "id": "62ef791b"
   },
   "outputs": [],
   "source": [
    "# Set the notebook display method\n",
    "# If widget is not working, then change to inline\n",
    "%matplotlib widget\n",
    "\n",
    "# Import libraries\n",
    "from plantcv import plantcv as pcv\n",
    "from plantcv.parallel import WorkflowInputs\n",
    "\n",
    "# Print out the version of PlantCV being used by the Jupyter kernel\n",
    "pcv.__version__"
   ]
  },
  {
   "cell_type": "markdown",
   "metadata": {},
   "source": [
    "PSII images (3 in a set; F0, Fmin, and Fmax) are captured directly following a saturating fluorescence pulse (red light; 630 nm). These three PSII images can be used to calculate Fv/Fm (efficiency of photosystem II) for each pixel of the plant. \n",
    "\n",
    "To run a PSII workflow over a single PSII image set (3 images) there are 4 required inputs:\n",
    "\n",
    "Image 1: F0 (a.k.a Fdark/null) image.\n",
    "Image 2: Fmin image.\n",
    "Image 3: Fmax image.\n",
    "Output directory: If debug mode is set to 'print' output images from each step are produced."
   ]
  },
  {
   "cell_type": "markdown",
   "metadata": {
    "id": "4468af74"
   },
   "source": [
    "## Input/Output variables\n",
    "\n",
    "The options class mimics the workflow command-line argument parser that is used for workflow parallelization. Using it while developing a workflow in Jupyter makes it easier to convert the workflow to a script later. Remember, always keep your raw images separate from your newly processed images!"
   ]
  },
  {
   "cell_type": "code",
   "execution_count": null,
   "metadata": {
    "scrolled": true,
    "tags": []
   },
   "outputs": [],
   "source": [
    "# Input/output options\n",
    "args = WorkflowInputs(\n",
    "    images=[\"./imgs/PSII_HDR_2023-12-11_B01_1.INF\"],\n",
    "    names=\"image1\",\n",
    "    result=\"single-plant-results.csv\",\n",
    "    outdir=\"./example-results\",\n",
    "    writeimg=True,\n",
    "    debug=\"plot\"\n",
    "    )"
   ]
  },
  {
   "cell_type": "code",
   "execution_count": null,
   "metadata": {},
   "outputs": [],
   "source": [
    "# Set debug to the global parameter \n",
    "pcv.params.debug = args.debug\n",
    "# Change display settings\n",
    "pcv.params.dpi = 100\n",
    "# Increase text size and thickness to make labels clearer\n",
    "# (size may need to be altered based on original image size)\n",
    "pcv.params.text_size = 20\n",
    "pcv.params.text_thickness = 20"
   ]
  },
  {
   "cell_type": "markdown",
   "metadata": {
    "id": "343a0816"
   },
   "source": [
    "## Read the input image"
   ]
  },
  {
   "cell_type": "markdown",
   "metadata": {
    "id": "Q4Na59TNNg1x"
   },
   "source": [
    "### Reading images into your environment using *pcv.readimage()*\n",
    "Inputs:\n",
    "   * filename = Image file to be read in\n",
    "   * mode     = How the image will be read into the notebook; either 'native' (default), 'rgb', 'gray', 'csv', or 'envi'"
   ]
  },
  {
   "cell_type": "code",
   "execution_count": null,
   "metadata": {
    "id": "03a085f7"
   },
   "outputs": [],
   "source": [
    "img, path, filename = pcv.readimage(filename=args.image1)"
   ]
  },
  {
   "cell_type": "markdown",
   "metadata": {},
   "source": [
    "The CropReporter will output multiple data files, depending on the measurement protocols that are activated on the instrument.\n",
    "\n",
    "### INF file\n",
    "**HDR** = the configuration file that describes what measurements were on/off and other settings. This is the input file used by PlantCV\n",
    "\n",
    "### DAT files\n",
    "**PSD** = Dark-adapted chlorophyll fluorescence measurements following a saturating light pulse (red light; 630 nm). These images are used to calculate Fv/Fm (efficiency of photosystem II).\n",
    "\n",
    "**PSL** = Light-adapted chlorophyll fluorescence measurements following a saturating light pulse (red light; 630 nm). These images are used to calculate Fq'/Fm' (operating efficiency of photosystem II).\n",
    "\n",
    "PSD and PSL are used together to calculate non-photochemical quenching (NPQ).\n",
    "\n",
    "**CLR** = Blue (475 nm), Green (550 nm), and Red (640 nm) color channels.\n",
    "\n",
    "**CHL** = Steady-state chlorophyll fluorescence.\n",
    "\n",
    "**SPC** = Spectral channels used to calculate vegetative indices. Green2 (540 nm), Far-red (710 nm), and Near-infrared (770 nm).\n",
    "\n",
    "ps is an instance of the PSII_data class in PlantCV. The class stores each available dataset as attributes. The class stores two dataset attributes (datapath and filename) and stores each of the datasets with the following variable names: ojip_dark, ojip_light, chlorophyll, spectral. The ojip_dark, ojip_light, and chlorophyll datasets are stored as xarray DataArrays. The spectral dataset is stored as a PlantCV Spectral_data class instance.\n",
    "\n",
    "The spectral dataset can contain blue (460nm), green (500nm), red (670nm), green2 (550nm), far-red (700nm), and near-infrared (800nm) frames.\n"
   ]
  },
  {
   "cell_type": "code",
   "execution_count": null,
   "metadata": {
    "tags": []
   },
   "outputs": [],
   "source": [
    "# Read fluorescence image data\n",
    "# This will visualize all of the frames in all of the data you collected\n",
    "\n",
    "# Inputs:\n",
    "#   filename - Image file to be read in (should be an .INF file)\n",
    "ps = pcv.photosynthesis.read_cropreporter(filename=args.image1)\n"
   ]
  },
  {
   "cell_type": "markdown",
   "metadata": {},
   "source": [
    "## Create a mask"
   ]
  },
  {
   "cell_type": "markdown",
   "metadata": {},
   "source": [
    "In the code below, we select the chlorophyll \"CHL\" frame as our grayscale image from which the mask will be created. It is possible to use any frame for creating a mask, but it is easier to use an image with decent contrast between the object of interest (the plant) and the background. "
   ]
  },
  {
   "cell_type": "code",
   "execution_count": null,
   "metadata": {
    "tags": []
   },
   "outputs": [],
   "source": [
    "img = ps.chlorophyll.sel(frame_label = \"Chl\").data\n",
    "pcv.plot_image(img)"
   ]
  },
  {
   "cell_type": "code",
   "execution_count": null,
   "metadata": {
    "tags": []
   },
   "outputs": [],
   "source": [
    "# Segment the chlorophyll image in order to separate the plant from the background\n",
    "# For additional segmentation methods (such as binary), see the segmentation tutorial and documentation\n",
    "\n",
    "# Inputs:\n",
    "#   gray_img        - Grayscale image data\n",
    "#   object_type     - 'light' (default) or 'dark'. If the object is lighter than the\n",
    "#                       background then standard threshold is done. If the object is\n",
    "#                       darker than the background then inverse thresholding is done.\n",
    "\n",
    "bin_img = pcv.threshold.otsu(gray_img=img, object_type=\"light\")\n"
   ]
  },
  {
   "cell_type": "code",
   "execution_count": null,
   "metadata": {
    "tags": []
   },
   "outputs": [],
   "source": [
    "# Fill small objects to remove noise and get a complete plant\n",
    "\n",
    "# Inputs:\n",
    "#   bin_img         - Binary image data\n",
    "#   size            - Minimum object area size in pixels (integer), smaller objects get filled in.\n",
    "\n",
    "filled_mask = pcv.fill(bin_img=bin_img, size=200)\n"
   ]
  },
  {
   "cell_type": "markdown",
   "metadata": {},
   "source": [
    "Segmentation accuracy depends largely on the quality of the imaging data collection setup, but the importance of this accuracy also depends on the experimental questiton that a workflow aims to answer. In the case of photosynthesis/fluorescence datasets, it's recommended that segmentation of plants be more conservative. In other words, it's more detrimental for PSII results to have background signal captured within a plant mask than it is to exclude some true plant signal in analysis. Plant movement, reflections within imaging cabinets, and other factors can influence the signal around the edges of an object. To address this, we will preform a morphological erosion to remove the edges.  "
   ]
  },
  {
   "cell_type": "code",
   "execution_count": null,
   "metadata": {},
   "outputs": [],
   "source": [
    "# Erode a small border of pixels from the mask \n",
    "\n",
    "# Inputs:\n",
    "#   gray_img - Grayscale (usually binary) image data \n",
    "#   ksize - The size used to build a ksize x ksize \n",
    "#            matrix using np.ones. Must be greater than 1 to have an effect \n",
    "#   i - An integer for the number of iterations \n",
    "eroded_mask = pcv.erode(gray_img=filled_mask, ksize=3, i=1)\n"
   ]
  },
  {
   "cell_type": "markdown",
   "metadata": {},
   "source": [
    "## Create a labeled mask"
   ]
  },
  {
   "cell_type": "markdown",
   "metadata": {},
   "source": [
    "We will create a labeled mask with a unique label for each leaf. Because we want to keep track of the identity of each leaf we will use multiple regions of interest (ROIs) so that we can assign a label to each leaf by position."
   ]
  },
  {
   "cell_type": "code",
   "execution_count": null,
   "metadata": {
    "tags": []
   },
   "outputs": [],
   "source": [
    "#     Create multiple circular ROIs on a single image\n",
    "# Inputs\n",
    "# img           = Input image data.\n",
    "# coord         = Two-element tuple of the center of the top left object (x,y) or a list of tuples identifying\n",
    "#                 the center of each roi [(x1,y1),(x2,y2)]\n",
    "# radius        = A single radius for all ROIs.\n",
    "# spacing       = Two-element tuple of the horizontal and vertical spacing between ROIs, (x,y). Ignored if `coord`\n",
    "#                 is a list and `rows` and `cols` are None.\n",
    "# nrows         = Number of rows in ROI layout. Should be missing or None if each center coordinate pair is listed.\n",
    "# ncols         = Number of columns in ROI layout. Should be missing or None if each center coordinate pair is listed.\n",
    "# Returns:\n",
    "# roi_objects   = a dataclass with roi objects and hierarchies\n",
    "rois = pcv.roi.multi(img=eroded_mask, coord=(600, 160), radius=30, spacing=(0, 115), nrows=7, ncols=1)\n"
   ]
  },
  {
   "cell_type": "code",
   "execution_count": null,
   "metadata": {
    "tags": []
   },
   "outputs": [],
   "source": [
    "# Create a labeled mask\n",
    "# Inputs:\n",
    "# mask            = mask image\n",
    "# rois            = list of multiple ROIs (from roi.multi or roi.auto_grid)\n",
    "# roi_type        = 'cutto', 'partial' (for partially inside, default),\n",
    "#                 'largest' (keep only the largest contour), or 'auto'\n",
    "#                 (use the mask alone withtout roi filtering)\n",
    "\n",
    "# Returns:\n",
    "# mask            = Labeled mask\n",
    "# num_labels      = Number of labeled objects\n",
    "labeled_mask, n_labels = pcv.create_labels(mask=filled_mask, rois=rois)"
   ]
  },
  {
   "cell_type": "markdown",
   "metadata": {},
   "source": [
    "## Phenotypic measurements"
   ]
  },
  {
   "cell_type": "markdown",
   "metadata": {},
   "source": [
    "Label each object according to the known identity. "
   ]
  },
  {
   "cell_type": "code",
   "execution_count": null,
   "metadata": {
    "tags": []
   },
   "outputs": [],
   "source": [
    "# Sample label list\n",
    "labels = [\"Floor-Pot_1\", \"Floor-Pot_2\", \"Floor-Pot_3\", \"Floor-Pot_4\", \"Floor-Pot_5\", \"Floor-Pot_6\",\"Floor-Pot_7\"]"
   ]
  },
  {
   "cell_type": "code",
   "execution_count": null,
   "metadata": {
    "tags": []
   },
   "outputs": [],
   "source": [
    "# Analyze shape and size of each leaf\n",
    "shape_img = pcv.analyze.size(img=img, labeled_mask=labeled_mask, n_labels=n_labels, label=labels)"
   ]
  },
  {
   "cell_type": "markdown",
   "metadata": {},
   "source": [
    "### Visualize the chlorophyll fluorescence induction curves (optional)\n",
    "\n",
    "In this experiment, the leaves were dark-adapted. An image is taken of the leaves in the dark (F-dark). The leaves were then exposed to a saturating red light pulse briefly. An image of chlorophyll fluorescence is taken immediately after the pulse to measure minimal fluorescence (F0). Successive images are taken at a fixed time interval (20 total frames from F0 to F19 in this example). Here we will chart the induction curves using visualize.chlorophyll_fluorescence to see if the maximum fluorescence frames are set at a reasonable place or whether we want to adjust them in a later step."
   ]
  },
  {
   "cell_type": "code",
   "execution_count": null,
   "metadata": {
    "tags": []
   },
   "outputs": [],
   "source": [
    "# Dark-adapted fluorescence induction curve\n",
    "# This curve is only for the object in your kept mask from above\n",
    "\n",
    "# Inputs:\n",
    "# ps_da            = photosynthesis xarray DataArray\n",
    "# labeled_mask     = Labeled mask of objects (32-bit).\n",
    "# n_labels         = Total number expected individual objects (default = 1).\n",
    "# label            = optional label parameter, modifies the prefix of the group plotting label\n",
    "\n",
    "# Returns:\n",
    "# chart            = Plot of the chlorophyll fluorescence induction curve for each object\n",
    "\n",
    "dark_fig = pcv.visualize.chlorophyll_fluorescence(ps_da=ps.ojip_dark, labeled_mask=labeled_mask, n_labels=n_labels)"
   ]
  },
  {
   "cell_type": "markdown",
   "metadata": {},
   "source": [
    "After the Fv/Fm protocol, the leaves are light-adapted. An image is taken of the leaves in the light (F-light). The leaves are then exposed to an actinic light, and an image of chlorophyll fluorescence is taken to measure steady-state fluorescence (F'). The leaves are then exposed to a saturating red light pulse briefly. Successive images are taken at a fixed time interval (20 total frames from F0 to F19 in this example). Here we will use the visualize.chlorophyll_fluorescence function to chart the fluorescence induction curve."
   ]
  },
  {
   "cell_type": "code",
   "execution_count": null,
   "metadata": {
    "tags": []
   },
   "outputs": [],
   "source": [
    "# Light-adapted fluorescence induction curve\n",
    "\n",
    "# Inputs:\n",
    "# ps_da            = photosynthesis xarray DataArray\n",
    "# labeled_mask     = Labeled mask of objects (32-bit).\n",
    "# n_labels         = Total number expected individual objects (default = 1).\n",
    "# label            = optional label parameter, modifies the prefix of the group plotting label\n",
    "\n",
    "# Returns:\n",
    "# chart            = Plot of the chlorophyll fluorescence induction curve for each object\n",
    "\n",
    "light_fig = pcv.visualize.chlorophyll_fluorescence(ps_da=ps.ojip_light, labeled_mask=labeled_mask, n_labels=n_labels)"
   ]
  },
  {
   "cell_type": "markdown",
   "metadata": {},
   "source": [
    "# Estimate the efficiency of PSII\n",
    "\n",
    "Using the dark-adapted and light-adapted datasets, calculate the metric Fv/Fm to estimate the maximum efficiency of PSII and the metric Fq'/Fm' to estimate the operating efficiency of PSII. In both cases the function analyze.yii is used. Setting auto_fm=True will use photosynthesis.reassign_frame_labels to automatically find the frame with the maximum fluorescence for each masked region."
   ]
  },
  {
   "cell_type": "code",
   "execution_count": null,
   "metadata": {
    "tags": []
   },
   "outputs": [],
   "source": [
    "# Analyze Fv/Fm\n",
    "\n",
    "# Inputs:\n",
    "# ps_da               = Photosynthesis xarray DataArray (either ojip_dark or ojip_light)\n",
    "# labeled_mask        = Labeled mask of objects (32-bit).\n",
    "# n_labels            = Total number expected individual objects (default = 1).\n",
    "# auto_fm             = Automatically calculate the frame with maximum fluorescence per label, otherwise\n",
    "#                       use a fixed frame for all labels (default = False).\n",
    "# measurement_labels  = labels for each measurement, modifies the variable name of observations recorded\n",
    "# label               = optional label parameter, modifies the variable name of observations recorded\n",
    "\n",
    "# Returns:\n",
    "# yii_global          = DataArray of efficiency estimate values\n",
    "# yii_chart           = Histograms of efficiency estimate\n",
    "\n",
    "fvfm, fvfm_hist = pcv.analyze.yii(ps_da=ps.ojip_dark, labeled_mask=labeled_mask, n_labels=n_labels, auto_fm=True,\n",
    "                                  measurement_labels=[\"Fv/Fm\"], label=labels)\n"
   ]
  },
  {
   "cell_type": "code",
   "execution_count": null,
   "metadata": {
    "tags": []
   },
   "outputs": [],
   "source": [
    "# Analyze Fq'/Fm'\n",
    "\n",
    "# Inputs:\n",
    "# ps_da               = Photosynthesis xarray DataArray (either ojip_dark or ojip_light)\n",
    "# labeled_mask        = Labeled mask of objects (32-bit).\n",
    "# n_labels            = Total number expected individual objects (default = 1).\n",
    "# auto_fm             = Automatically calculate the frame with maximum fluorescence per label, otherwise\n",
    "#                       use a fixed frame for all labels (default = False).\n",
    "# measurement_labels  = labels for each measurement, modifies the variable name of observations recorded\n",
    "# label               = optional label parameter, modifies the variable name of observations recorded\n",
    "\n",
    "# Returns:\n",
    "# yii_global          = DataArray of efficiency estimate values\n",
    "# yii_chart           = Histograms of efficiency estimate\n",
    "\n",
    "fqfm, fqfm_hist = pcv.analyze.yii(ps_da=ps.ojip_light, labeled_mask=labeled_mask, n_labels=n_labels, auto_fm=True,\n",
    "                                  measurement_labels=[\"Fq'/Fm'\"], label=labels)"
   ]
  },
  {
   "cell_type": "markdown",
   "metadata": {},
   "source": [
    "# Estimate non-photochemical quenching \n",
    "\n",
    "Nonphotochemical quanching (NPQ) can be estimated using the analyze.npq function."
   ]
  },
  {
   "cell_type": "code",
   "execution_count": null,
   "metadata": {
    "tags": []
   },
   "outputs": [],
   "source": [
    "# Analyze NPQ\n",
    "\n",
    "# Inputs:\n",
    "# ps_da_light        = Photosynthesis xarray DataArray that contains frame_label `Fmp` (ojip_light)\n",
    "# ps_da_dark         = Photosynthesis xarray DataArray that contains frame_label `Fm` (ojip_dark)\n",
    "# labeled_mask       = Labeled mask of objects (32-bit).\n",
    "# n_labels           = Total number expected individual objects (default = 1).\n",
    "# auto_fm            = Automatically calculate the frame with maximum fluorescence per label, otherwise\n",
    "#                      use a fixed frame for all labels (default = False).\n",
    "# min_bin            = minimum bin value (\"auto\" or user input minimum value - must be an integer)\n",
    "# max_bin            = maximum bin value (\"auto\" or user input maximum value - must be an integer)\n",
    "# measurement_labels = labels for each measurement in ps_da_light, modifies the variable name of observations recorded\n",
    "# label              = optional label parameter, modifies the entity name of observations recorded\n",
    "\n",
    "# Returns:\n",
    "# npq_global         = DataArray of NPQ values\n",
    "# npq_chart          = Histograms of NPQ estimates\n",
    "\n",
    "npq, npq_hist = pcv.analyze.npq(ps_da_light=ps.ojip_light, ps_da_dark=ps.ojip_dark, labeled_mask=labeled_mask, n_labels=n_labels,\n",
    "                                auto_fm=True, measurement_labels=[\"NPQ\"], label=labels, max_bin=10)"
   ]
  },
  {
   "cell_type": "markdown",
   "metadata": {},
   "source": [
    "Optionally, the Fv/Fm, Fq'/Fm', and NPQ images can be visualized using the pseudocolor function to assess the distribution of values across the leaves."
   ]
  },
  {
   "cell_type": "code",
   "execution_count": null,
   "metadata": {
    "tags": []
   },
   "outputs": [],
   "source": [
    "# Pseudocolor the PSII metric images\n",
    "\n",
    "# Inputs:\n",
    "# gray_img    - grayscale image data\n",
    "# obj         - (optional) ROI or plant contour object. If provided, the pseudocolored image gets cropped\n",
    "#               down to the region of interest. default = None\n",
    "# mask        - (optional) binary mask\n",
    "# cmap        - (optional) colormap. default is the matplotlib default, viridis\n",
    "# background  - (optional) background color/type, options are \"image\" (gray_img), \"white\", or \"black\"\n",
    "#               (requires a mask). default = 'image'\n",
    "# min_value   - (optional) minimum value for range of interest. default = 0\n",
    "# max_value   - (optional) maximum value for range of interest. default = 255\n",
    "# axes        - (optional) if False then x- and y-axis won't be displayed, nor will the title. default = True\n",
    "# colorbar    - (optional) if False then colorbar won't be displayed. default = True\n",
    "# obj_padding - (optional) if \"auto\" (default) and an obj is supplied, then the image is cropped to an extent 20%\n",
    "#               larger in each dimension than the object. An single integer is also accepted to define the padding\n",
    "#               in pixels\n",
    "# title       - (optional) custom title for the plot gets drawn if title is not None. default = None\n",
    "# bad_mask    - (optional) binary mask of pixels with \"bad\" values, e.g. nan or inf or any other values considered\n",
    "#               to be not informative and to be excluded from analysis. default = None\n",
    "# bad_color   - (optional) desired color to show \"bad\" pixels. default = \"red\"\n",
    "fvfm_cmap = pcv.visualize.pseudocolor(gray_img=fvfm, mask=filled_mask, cmap=\"viridis\", \n",
    "                                        min_value=0, max_value=1, title=\"Fv/Fm\")\n",
    "fqfm_cmap = pcv.visualize.pseudocolor(gray_img=fqfm, mask=filled_mask, cmap=\"viridis\", \n",
    "                                        min_value=0, max_value=1, title=\"Fq'/Fm'\")\n",
    "npq_cmap = pcv.visualize.pseudocolor(gray_img=npq, mask=filled_mask, cmap=\"viridis\", \n",
    "                                        min_value=0, max_value=3, title=\"NPQ\")"
   ]
  },
  {
   "cell_type": "markdown",
   "metadata": {},
   "source": [
    "# Analyze spectral indices"
   ]
  },
  {
   "cell_type": "markdown",
   "metadata": {},
   "source": [
    "# Anthocyanin Reflectance Index\n",
    "Calculate ARI using the ari function, plot a colormap, and analyze the leaf values."
   ]
  },
  {
   "cell_type": "code",
   "execution_count": null,
   "metadata": {
    "tags": []
   },
   "outputs": [],
   "source": [
    "# Inputs:\n",
    "# hsi         = hyperspectral image (PlantCV Spectral_data instance)\n",
    "# distance    = how lenient to be if the required wavelengths are not available\n",
    "# \n",
    "# Returns:\n",
    "# index_array = Index data as a Spectral_data instance\n",
    "ari = pcv.spectral_index.ari(hsi=ps.spectral)\n",
    "\n",
    "ari_ps = pcv.visualize.pseudocolor(gray_img=ari.array_data, min_value=-10, max_value=5, \n",
    "                                    cmap=\"Purples\", mask=filled_mask, background=\"black\", \n",
    "                                    title=\"Anthocyanin Reflectance Index\")\n",
    "# Inputs:\n",
    "# index_img    = Index image data (PlantCV Spectral_data object)\n",
    "# labeled_mask = Labeled mask of objects (32-bit).\n",
    "# n_labels     = Total number expected individual objects (default = 1).\n",
    "# bins         = Number of histogram bins (default = 100)\n",
    "# min_bin      = Minimum bin value (default = 0). \"auto\" will use the minimum value of the index image.\n",
    "# max_bin      = Maximum bin value (default = 1). \"auto\" will use the maximum value of the index image.\n",
    "# label        = optional label parameter, modifies the variable name of observations recorded (default = \"default\").\n",
    "\n",
    "# Returns:\n",
    "# index_hist = Spectral index histogram plot\n",
    "ari_hist = pcv.analyze.spectral_index(index_img=ari, labeled_mask=labeled_mask, n_labels=n_labels, min_bin=-10, max_bin=5, label=labels)\n"
   ]
  },
  {
   "cell_type": "markdown",
   "metadata": {},
   "source": [
    "# Chlorophyll Index Red Edge\n",
    "\n",
    "Calculate CI using the ci_rededge function, plot a colormap, and analyze the leaf values."
   ]
  },
  {
   "cell_type": "code",
   "execution_count": null,
   "metadata": {
    "tags": []
   },
   "outputs": [],
   "source": [
    "# Inputs:\n",
    "# hsi         = hyperspectral image (PlantCV Spectral_data instance)\n",
    "# distance    = how lenient to be if the required wavelengths are not available\n",
    "# \n",
    "# Returns:\n",
    "# index_array = Index data as a Spectral_data instance\n",
    "ci = pcv.spectral_index.ci_rededge(hsi=ps.spectral, distance=30)\n",
    "\n",
    "ci_ps = pcv.visualize.pseudocolor(gray_img=ci.array_data, min_value=0, max_value=8, \n",
    "                                    cmap=\"Greens\", mask=filled_mask, background=\"black\", \n",
    "                                    title=\"Chlorophyll Index Red Edge\")\n",
    "# Inputs:\n",
    "# index_img    = Index image data (PlantCV Spectral_data object)\n",
    "# labeled_mask = Labeled mask of objects (32-bit).\n",
    "# n_labels     = Total number expected individual objects (default = 1).\n",
    "# bins         = Number of histogram bins (default = 100)\n",
    "# min_bin      = Minimum bin value (default = 0). \"auto\" will use the minimum value of the index image.\n",
    "# max_bin      = Maximum bin value (default = 1). \"auto\" will use the maximum value of the index image.\n",
    "# label        = optional label parameter, modifies the variable name of observations recorded (default = \"default\").\n",
    "\n",
    "# Returns:\n",
    "# index_hist = Spectral index histogram plot\n",
    "ci_hist = pcv.analyze.spectral_index(index_img=ci, labeled_mask=labeled_mask, n_labels=n_labels, min_bin=0, max_bin=12, label=labels)"
   ]
  },
  {
   "cell_type": "markdown",
   "metadata": {},
   "source": [
    "# Normalized Difference Vegetation Index\n",
    "Calculate NDVI using the ndvi function, plot a colormap, and analyze the leaf values."
   ]
  },
  {
   "cell_type": "code",
   "execution_count": null,
   "metadata": {
    "tags": []
   },
   "outputs": [],
   "source": [
    "# Inputs:\n",
    "# hsi         = hyperspectral image (PlantCV Spectral_data instance)\n",
    "# distance    = how lenient to be if the required wavelengths are not available\n",
    "# \n",
    "# Returns:\n",
    "# index_array = Index data as a Spectral_data instance\n",
    "ndvi = pcv.spectral_index.ndvi(hsi=ps.spectral, distance=30)\n",
    "\n",
    "ndvi_ps = pcv.visualize.pseudocolor(gray_img=ndvi.array_data, min_value=0, max_value=1, \n",
    "                                    cmap=\"jet\", mask=filled_mask, background=\"black\", \n",
    "                                    title=\"Normalized Difference Vegetation Index\")\n",
    "# Inputs:\n",
    "# index_img    = Index image data (PlantCV Spectral_data object)\n",
    "# labeled_mask = Labeled mask of objects (32-bit).\n",
    "# n_labels     = Total number expected individual objects (default = 1).\n",
    "# bins         = Number of histogram bins (default = 100)\n",
    "# min_bin      = Minimum bin value (default = 0). \"auto\" will use the minimum value of the index image.\n",
    "# max_bin      = Maximum bin value (default = 1). \"auto\" will use the maximum value of the index image.\n",
    "# label        = optional label parameter, modifies the variable name of observations recorded (default = \"default\").\n",
    "\n",
    "# Returns:\n",
    "# index_hist = Spectral index histogram plot\n",
    "ndvi_hist = pcv.analyze.spectral_index(index_img=ndvi, labeled_mask=labeled_mask, n_labels=n_labels, min_bin=0, max_bin=1, label=labels)\n"
   ]
  },
  {
   "cell_type": "markdown",
   "metadata": {},
   "source": [
    "# Save results and finish the workflow¶"
   ]
  },
  {
   "cell_type": "code",
   "execution_count": null,
   "metadata": {
    "tags": []
   },
   "outputs": [],
   "source": [
    "# The save results function will take the measurements stored when running any PlantCV analysis functions,\n",
    "# format, and print an output text file for data analysis. The Outputs class stores data whenever any of\n",
    "# the following functions are ran: analyze_bound_horizontal, analyze_bound_vertical, analyze_color,\n",
    "# analyze_nir_intensity, analyze_object, fluor_fvfm, report_size_marker_area, watershed. If no functions\n",
    "# have been run, it will print an empty text file \n",
    "\n",
    "# This saves results for one image, and each image is saved individually if you run another image\n",
    "# (it will overwrite the last one)\n",
    "pcv.outputs.save_results(filename=args.result, outformat=\"csv\")\n",
    "\n",
    "if args.writeimg:\n",
    "    pcv.print_image(img=dark_fig, filename=os.path.join(args.outdir, f\"{ps.filename[:-4]}_fvfm_induction.png\"))\n",
    "    pcv.print_image(img=light_fig, filename=os.path.join(args.outdir, f\"{ps.filename[:-4]}_fqfm_induction.png\"))\n",
    "    pcv.print_image(img=fvfm_hist, filename=os.path.join(args.outdir, f\"{ps.filename[:-4]}_fvfm_histogram.png\"))\n",
    "    pcv.print_image(img=fqfm_hist, filename=os.path.join(args.outdir, f\"{ps.filename[:-4]}_fqfm_histogram.png\"))\n",
    "    pcv.print_image(img=npq_hist, filename=os.path.join(args.outdir, f\"{ps.filename[:-4]}_npq_histogram.png\"))\n",
    "    pcv.print_image(img=fvfm_cmap, filename=os.path.join(args.outdir, f\"{ps.filename[:-4]}_fvfm_cmap.png\"))\n",
    "    pcv.print_image(img=fqfm_cmap, filename=os.path.join(args.outdir, f\"{ps.filename[:-4]}_fqfm_cmap.png\"))\n",
    "    pcv.print_image(img=npq_cmap, filename=os.path.join(args.outdir, f\"{ps.filename[:-4]}_npq_cmap.png\"))\n",
    "    pcv.print_image(img=ari_ps, filename=os.path.join(args.outdir, f\"{ps.filename[:-4]}_ari_cmap.png\"))\n",
    "    pcv.print_image(img=ari_hist, filename=os.path.join(args.outdir, f\"{ps.filename[:-4]}_ari_hist.png\"))\n",
    "    pcv.print_image(img=ci_ps, filename=os.path.join(args.outdir, f\"{ps.filename[:-4]}_ci_cmap.png\"))\n",
    "    pcv.print_image(img=ci_hist, filename=os.path.join(args.outdir, f\"{ps.filename[:-4]}_ci_hist.png\"))\n",
    "    pcv.print_image(img=ndvi_ps, filename=os.path.join(args.outdir, f\"{ps.filename[:-4]}_ndvi_cmap.png\"))\n",
    "    pcv.print_image(img=ndvi_hist, filename=os.path.join(args.outdir, f\"{ps.filename[:-4]}_ndvi_hist.png\"))\n"
   ]
  },
  {
   "cell_type": "code",
   "execution_count": null,
   "metadata": {},
   "outputs": [],
   "source": [
    "# Clear the measurements stored globally into the Ouptuts class\n",
    "\n",
    "#If you have additional multi-object images, go back to the start of the workflow and start again. Clear the outputs each time an image is analyzed. \n",
    "\n",
    "pcv.outputs.clear()"
   ]
  },
  {
   "cell_type": "markdown",
   "metadata": {},
   "source": [
    "After you have finished analyzing all of your images, you can combine the resulting csv files. Be sure each object has unique labels. You can then take the combined results file for downstream analysis of the numerical data. "
   ]
  },
  {
   "cell_type": "code",
   "execution_count": null,
   "metadata": {},
   "outputs": [],
   "source": [
    "# define the path to the individual result .csv files\n",
    "path = './example-results'\n",
    "os.chdir(path)\n",
    "import glob\n",
    "import pandas as pd\n",
    "\n",
    "#select which files should be combined\n",
    "all_filenames = [i for i in glob.glob('*.{}'.format('csv'))]\n",
    "\n",
    "#combine the individual .csv files\n",
    "combined_csv = pd.concat([pd.read_csv(f) for f in all_filenames ])\n",
    "combined_csv.to_csv( \"combined_results.csv\", index=False, encoding='utf-8-sig')"
   ]
  }
 ],
 "metadata": {
  "kernelspec": {
   "display_name": "Python 3 (ipykernel)",
   "language": "python",
   "name": "python3"
  },
  "language_info": {
   "codemirror_mode": {
    "name": "ipython",
    "version": 3
   },
   "file_extension": ".py",
   "mimetype": "text/x-python",
   "name": "python",
   "nbconvert_exporter": "python",
   "pygments_lexer": "ipython3",
   "version": "3.12.8"
  }
 },
 "nbformat": 4,
 "nbformat_minor": 4
}
